{
 "cells": [
  {
   "cell_type": "markdown",
   "metadata": {},
   "source": [
    "# Analise de Dados Titanic\n",
    "Analise dos dados demográficos de 891 dos 2.224 passageiros e tripulantes a bordo do Titanic.\n",
    "\n",
    "Atraves de metodos e estruturas aprendidos em linguagem python e com o auxilio de bibliotecas pandas, numpy e matplotlib vistos ao longo do curso, foi possivel analisar uma amostra disponível online de alguns dos tribulantes abordo do navio Titanic. Utilizando as taticas acima foi possível responder algumas perguntas propostas para tirar conclusões do que ocorreu abordo do navío Titanic."
   ]
  },
  {
   "cell_type": "code",
   "execution_count": 78,
   "metadata": {},
   "outputs": [],
   "source": [
    "#importando bibliotecas que serão utilizadas\n",
    "import pandas as pd\n",
    "import numpy as np\n",
    "from matplotlib import pyplot as plt\n",
    "%matplotlib inline"
   ]
  },
  {
   "cell_type": "markdown",
   "metadata": {},
   "source": [
    "# Primeiro Passo\n",
    "Perguntas a serem realizadas"
   ]
  },
  {
   "cell_type": "markdown",
   "metadata": {},
   "source": [
    "Para a decisão de quais perguntas pode-se fazer para tirar conclusões dos dados, é necessário análisar os tipos de dados que possui a amostra."
   ]
  },
  {
   "cell_type": "code",
   "execution_count": 31,
   "metadata": {},
   "outputs": [
    {
     "data": {
      "text/html": [
       "<div>\n",
       "<style scoped>\n",
       "    .dataframe tbody tr th:only-of-type {\n",
       "        vertical-align: middle;\n",
       "    }\n",
       "\n",
       "    .dataframe tbody tr th {\n",
       "        vertical-align: top;\n",
       "    }\n",
       "\n",
       "    .dataframe thead th {\n",
       "        text-align: right;\n",
       "    }\n",
       "</style>\n",
       "<table border=\"1\" class=\"dataframe\">\n",
       "  <thead>\n",
       "    <tr style=\"text-align: right;\">\n",
       "      <th></th>\n",
       "      <th>PassengerId</th>\n",
       "      <th>Survived</th>\n",
       "      <th>Pclass</th>\n",
       "      <th>Name</th>\n",
       "      <th>Sex</th>\n",
       "      <th>Age</th>\n",
       "      <th>SibSp</th>\n",
       "      <th>Parch</th>\n",
       "      <th>Ticket</th>\n",
       "      <th>Fare</th>\n",
       "      <th>Cabin</th>\n",
       "      <th>Embarked</th>\n",
       "    </tr>\n",
       "  </thead>\n",
       "  <tbody>\n",
       "    <tr>\n",
       "      <th>0</th>\n",
       "      <td>1</td>\n",
       "      <td>0</td>\n",
       "      <td>3</td>\n",
       "      <td>Braund, Mr. Owen Harris</td>\n",
       "      <td>male</td>\n",
       "      <td>22.0</td>\n",
       "      <td>1</td>\n",
       "      <td>0</td>\n",
       "      <td>A/5 21171</td>\n",
       "      <td>7.2500</td>\n",
       "      <td>NaN</td>\n",
       "      <td>S</td>\n",
       "    </tr>\n",
       "    <tr>\n",
       "      <th>1</th>\n",
       "      <td>2</td>\n",
       "      <td>1</td>\n",
       "      <td>1</td>\n",
       "      <td>Cumings, Mrs. John Bradley (Florence Briggs Th...</td>\n",
       "      <td>female</td>\n",
       "      <td>38.0</td>\n",
       "      <td>1</td>\n",
       "      <td>0</td>\n",
       "      <td>PC 17599</td>\n",
       "      <td>71.2833</td>\n",
       "      <td>C85</td>\n",
       "      <td>C</td>\n",
       "    </tr>\n",
       "    <tr>\n",
       "      <th>2</th>\n",
       "      <td>3</td>\n",
       "      <td>1</td>\n",
       "      <td>3</td>\n",
       "      <td>Heikkinen, Miss. Laina</td>\n",
       "      <td>female</td>\n",
       "      <td>26.0</td>\n",
       "      <td>0</td>\n",
       "      <td>0</td>\n",
       "      <td>STON/O2. 3101282</td>\n",
       "      <td>7.9250</td>\n",
       "      <td>NaN</td>\n",
       "      <td>S</td>\n",
       "    </tr>\n",
       "    <tr>\n",
       "      <th>3</th>\n",
       "      <td>4</td>\n",
       "      <td>1</td>\n",
       "      <td>1</td>\n",
       "      <td>Futrelle, Mrs. Jacques Heath (Lily May Peel)</td>\n",
       "      <td>female</td>\n",
       "      <td>35.0</td>\n",
       "      <td>1</td>\n",
       "      <td>0</td>\n",
       "      <td>113803</td>\n",
       "      <td>53.1000</td>\n",
       "      <td>C123</td>\n",
       "      <td>S</td>\n",
       "    </tr>\n",
       "    <tr>\n",
       "      <th>4</th>\n",
       "      <td>5</td>\n",
       "      <td>0</td>\n",
       "      <td>3</td>\n",
       "      <td>Allen, Mr. William Henry</td>\n",
       "      <td>male</td>\n",
       "      <td>35.0</td>\n",
       "      <td>0</td>\n",
       "      <td>0</td>\n",
       "      <td>373450</td>\n",
       "      <td>8.0500</td>\n",
       "      <td>NaN</td>\n",
       "      <td>S</td>\n",
       "    </tr>\n",
       "  </tbody>\n",
       "</table>\n",
       "</div>"
      ],
      "text/plain": [
       "   PassengerId  Survived  Pclass  \\\n",
       "0            1         0       3   \n",
       "1            2         1       1   \n",
       "2            3         1       3   \n",
       "3            4         1       1   \n",
       "4            5         0       3   \n",
       "\n",
       "                                                Name     Sex   Age  SibSp  \\\n",
       "0                            Braund, Mr. Owen Harris    male  22.0      1   \n",
       "1  Cumings, Mrs. John Bradley (Florence Briggs Th...  female  38.0      1   \n",
       "2                             Heikkinen, Miss. Laina  female  26.0      0   \n",
       "3       Futrelle, Mrs. Jacques Heath (Lily May Peel)  female  35.0      1   \n",
       "4                           Allen, Mr. William Henry    male  35.0      0   \n",
       "\n",
       "   Parch            Ticket     Fare Cabin Embarked  \n",
       "0      0         A/5 21171   7.2500   NaN        S  \n",
       "1      0          PC 17599  71.2833   C85        C  \n",
       "2      0  STON/O2. 3101282   7.9250   NaN        S  \n",
       "3      0            113803  53.1000  C123        S  \n",
       "4      0            373450   8.0500   NaN        S  "
      ]
     },
     "execution_count": 31,
     "metadata": {},
     "output_type": "execute_result"
    }
   ],
   "source": [
    "#lendo os dados para análise\n",
    "df_titanic = pd.read_csv(\"titanic-data-6.csv\")\n",
    "df_titanic.head()"
   ]
  },
  {
   "cell_type": "markdown",
   "metadata": {},
   "source": [
    "Após a leitura dos dados e de algumas caracteristicas especificas disponiveis no site de onde a amostra foi tirada (https://www.kaggle.com/c/titanic/data), pode-se fazer algumas perguntas sobre a amostra do que queremos saber sobre ela."
   ]
  },
  {
   "cell_type": "markdown",
   "metadata": {},
   "source": [
    "## Perguntas propostas:\n",
    "\n",
    "### 1) Quais foram os fatores que fizeram com que algumas pessoas fossem mais propensas a sobreviver?\n",
    "\n",
    "### 2) Quais foram os fatores para que as pessoas comprassem primeira classe?\n",
    "\n",
    "### 3) O fato de ter parentes a bordo fez com que pessoas não abondonassem o navio?"
   ]
  },
  {
   "cell_type": "markdown",
   "metadata": {},
   "source": [
    "#  Segundo Passo\n",
    "Limpar os dados"
   ]
  },
  {
   "cell_type": "markdown",
   "metadata": {},
   "source": [
    "Após propostas as perguntas, pode-se começar a preparar os dados para a análise.\n",
    "\n",
    "Essa etapa consiste em tres passos: Reunir, avaliar e limpar. Reune os dados que serão utilizados para responder as perguntas da análise dos dados, avaliar os dados para identificar qualquer dificuldade que possa obter durante a análise e limpar os dados modificando, substituindo ou removendo para se obter a melhor qualidade para as respostas."
   ]
  },
  {
   "cell_type": "code",
   "execution_count": 32,
   "metadata": {},
   "outputs": [
    {
     "name": "stdout",
     "output_type": "stream",
     "text": [
      "Quantidade de amostras 891\n",
      "Quantidade de colunas 12\n"
     ]
    }
   ],
   "source": [
    "#Verificando o tamanho da amostra\n",
    "print(\"Quantidade de amostras {}\".format(df_titanic.shape[0]))\n",
    "print(\"Quantidade de colunas {}\".format(df_titanic.shape[1]))"
   ]
  },
  {
   "cell_type": "code",
   "execution_count": 33,
   "metadata": {},
   "outputs": [
    {
     "name": "stdout",
     "output_type": "stream",
     "text": [
      "<class 'pandas.core.frame.DataFrame'>\n",
      "RangeIndex: 891 entries, 0 to 890\n",
      "Data columns (total 12 columns):\n",
      "PassengerId    891 non-null int64\n",
      "Survived       891 non-null int64\n",
      "Pclass         891 non-null int64\n",
      "Name           891 non-null object\n",
      "Sex            891 non-null object\n",
      "Age            714 non-null float64\n",
      "SibSp          891 non-null int64\n",
      "Parch          891 non-null int64\n",
      "Ticket         891 non-null object\n",
      "Fare           891 non-null float64\n",
      "Cabin          204 non-null object\n",
      "Embarked       889 non-null object\n",
      "dtypes: float64(2), int64(5), object(5)\n",
      "memory usage: 83.6+ KB\n"
     ]
    }
   ],
   "source": [
    "df_titanic.info()"
   ]
  },
  {
   "cell_type": "code",
   "execution_count": 34,
   "metadata": {},
   "outputs": [
    {
     "data": {
      "text/html": [
       "<div>\n",
       "<style scoped>\n",
       "    .dataframe tbody tr th:only-of-type {\n",
       "        vertical-align: middle;\n",
       "    }\n",
       "\n",
       "    .dataframe tbody tr th {\n",
       "        vertical-align: top;\n",
       "    }\n",
       "\n",
       "    .dataframe thead th {\n",
       "        text-align: right;\n",
       "    }\n",
       "</style>\n",
       "<table border=\"1\" class=\"dataframe\">\n",
       "  <thead>\n",
       "    <tr style=\"text-align: right;\">\n",
       "      <th></th>\n",
       "      <th>PassengerId</th>\n",
       "      <th>Survived</th>\n",
       "      <th>Pclass</th>\n",
       "      <th>Age</th>\n",
       "      <th>SibSp</th>\n",
       "      <th>Parch</th>\n",
       "      <th>Fare</th>\n",
       "    </tr>\n",
       "  </thead>\n",
       "  <tbody>\n",
       "    <tr>\n",
       "      <th>count</th>\n",
       "      <td>891.000000</td>\n",
       "      <td>891.000000</td>\n",
       "      <td>891.000000</td>\n",
       "      <td>714.000000</td>\n",
       "      <td>891.000000</td>\n",
       "      <td>891.000000</td>\n",
       "      <td>891.000000</td>\n",
       "    </tr>\n",
       "    <tr>\n",
       "      <th>mean</th>\n",
       "      <td>446.000000</td>\n",
       "      <td>0.383838</td>\n",
       "      <td>2.308642</td>\n",
       "      <td>29.699118</td>\n",
       "      <td>0.523008</td>\n",
       "      <td>0.381594</td>\n",
       "      <td>32.204208</td>\n",
       "    </tr>\n",
       "    <tr>\n",
       "      <th>std</th>\n",
       "      <td>257.353842</td>\n",
       "      <td>0.486592</td>\n",
       "      <td>0.836071</td>\n",
       "      <td>14.526497</td>\n",
       "      <td>1.102743</td>\n",
       "      <td>0.806057</td>\n",
       "      <td>49.693429</td>\n",
       "    </tr>\n",
       "    <tr>\n",
       "      <th>min</th>\n",
       "      <td>1.000000</td>\n",
       "      <td>0.000000</td>\n",
       "      <td>1.000000</td>\n",
       "      <td>0.420000</td>\n",
       "      <td>0.000000</td>\n",
       "      <td>0.000000</td>\n",
       "      <td>0.000000</td>\n",
       "    </tr>\n",
       "    <tr>\n",
       "      <th>25%</th>\n",
       "      <td>223.500000</td>\n",
       "      <td>0.000000</td>\n",
       "      <td>2.000000</td>\n",
       "      <td>20.125000</td>\n",
       "      <td>0.000000</td>\n",
       "      <td>0.000000</td>\n",
       "      <td>7.910400</td>\n",
       "    </tr>\n",
       "    <tr>\n",
       "      <th>50%</th>\n",
       "      <td>446.000000</td>\n",
       "      <td>0.000000</td>\n",
       "      <td>3.000000</td>\n",
       "      <td>28.000000</td>\n",
       "      <td>0.000000</td>\n",
       "      <td>0.000000</td>\n",
       "      <td>14.454200</td>\n",
       "    </tr>\n",
       "    <tr>\n",
       "      <th>75%</th>\n",
       "      <td>668.500000</td>\n",
       "      <td>1.000000</td>\n",
       "      <td>3.000000</td>\n",
       "      <td>38.000000</td>\n",
       "      <td>1.000000</td>\n",
       "      <td>0.000000</td>\n",
       "      <td>31.000000</td>\n",
       "    </tr>\n",
       "    <tr>\n",
       "      <th>max</th>\n",
       "      <td>891.000000</td>\n",
       "      <td>1.000000</td>\n",
       "      <td>3.000000</td>\n",
       "      <td>80.000000</td>\n",
       "      <td>8.000000</td>\n",
       "      <td>6.000000</td>\n",
       "      <td>512.329200</td>\n",
       "    </tr>\n",
       "  </tbody>\n",
       "</table>\n",
       "</div>"
      ],
      "text/plain": [
       "       PassengerId    Survived      Pclass         Age       SibSp  \\\n",
       "count   891.000000  891.000000  891.000000  714.000000  891.000000   \n",
       "mean    446.000000    0.383838    2.308642   29.699118    0.523008   \n",
       "std     257.353842    0.486592    0.836071   14.526497    1.102743   \n",
       "min       1.000000    0.000000    1.000000    0.420000    0.000000   \n",
       "25%     223.500000    0.000000    2.000000   20.125000    0.000000   \n",
       "50%     446.000000    0.000000    3.000000   28.000000    0.000000   \n",
       "75%     668.500000    1.000000    3.000000   38.000000    1.000000   \n",
       "max     891.000000    1.000000    3.000000   80.000000    8.000000   \n",
       "\n",
       "            Parch        Fare  \n",
       "count  891.000000  891.000000  \n",
       "mean     0.381594   32.204208  \n",
       "std      0.806057   49.693429  \n",
       "min      0.000000    0.000000  \n",
       "25%      0.000000    7.910400  \n",
       "50%      0.000000   14.454200  \n",
       "75%      0.000000   31.000000  \n",
       "max      6.000000  512.329200  "
      ]
     },
     "execution_count": 34,
     "metadata": {},
     "output_type": "execute_result"
    }
   ],
   "source": [
    "df_titanic.describe()"
   ]
  },
  {
   "cell_type": "markdown",
   "metadata": {},
   "source": [
    "Como o dataframe ja possui uma coluna de Id, vamos utilizar a propria coluna do dataframe como index, para isso vamos ler novamente o dataframe indicando a coluna PassengerId como index."
   ]
  },
  {
   "cell_type": "code",
   "execution_count": 35,
   "metadata": {},
   "outputs": [
    {
     "data": {
      "text/html": [
       "<div>\n",
       "<style scoped>\n",
       "    .dataframe tbody tr th:only-of-type {\n",
       "        vertical-align: middle;\n",
       "    }\n",
       "\n",
       "    .dataframe tbody tr th {\n",
       "        vertical-align: top;\n",
       "    }\n",
       "\n",
       "    .dataframe thead th {\n",
       "        text-align: right;\n",
       "    }\n",
       "</style>\n",
       "<table border=\"1\" class=\"dataframe\">\n",
       "  <thead>\n",
       "    <tr style=\"text-align: right;\">\n",
       "      <th></th>\n",
       "      <th>Survived</th>\n",
       "      <th>Pclass</th>\n",
       "      <th>Name</th>\n",
       "      <th>Sex</th>\n",
       "      <th>Age</th>\n",
       "      <th>SibSp</th>\n",
       "      <th>Parch</th>\n",
       "      <th>Ticket</th>\n",
       "      <th>Fare</th>\n",
       "      <th>Cabin</th>\n",
       "      <th>Embarked</th>\n",
       "    </tr>\n",
       "    <tr>\n",
       "      <th>PassengerId</th>\n",
       "      <th></th>\n",
       "      <th></th>\n",
       "      <th></th>\n",
       "      <th></th>\n",
       "      <th></th>\n",
       "      <th></th>\n",
       "      <th></th>\n",
       "      <th></th>\n",
       "      <th></th>\n",
       "      <th></th>\n",
       "      <th></th>\n",
       "    </tr>\n",
       "  </thead>\n",
       "  <tbody>\n",
       "    <tr>\n",
       "      <th>1</th>\n",
       "      <td>0</td>\n",
       "      <td>3</td>\n",
       "      <td>Braund, Mr. Owen Harris</td>\n",
       "      <td>male</td>\n",
       "      <td>22.0</td>\n",
       "      <td>1</td>\n",
       "      <td>0</td>\n",
       "      <td>A/5 21171</td>\n",
       "      <td>7.2500</td>\n",
       "      <td>NaN</td>\n",
       "      <td>S</td>\n",
       "    </tr>\n",
       "    <tr>\n",
       "      <th>2</th>\n",
       "      <td>1</td>\n",
       "      <td>1</td>\n",
       "      <td>Cumings, Mrs. John Bradley (Florence Briggs Th...</td>\n",
       "      <td>female</td>\n",
       "      <td>38.0</td>\n",
       "      <td>1</td>\n",
       "      <td>0</td>\n",
       "      <td>PC 17599</td>\n",
       "      <td>71.2833</td>\n",
       "      <td>C85</td>\n",
       "      <td>C</td>\n",
       "    </tr>\n",
       "    <tr>\n",
       "      <th>3</th>\n",
       "      <td>1</td>\n",
       "      <td>3</td>\n",
       "      <td>Heikkinen, Miss. Laina</td>\n",
       "      <td>female</td>\n",
       "      <td>26.0</td>\n",
       "      <td>0</td>\n",
       "      <td>0</td>\n",
       "      <td>STON/O2. 3101282</td>\n",
       "      <td>7.9250</td>\n",
       "      <td>NaN</td>\n",
       "      <td>S</td>\n",
       "    </tr>\n",
       "    <tr>\n",
       "      <th>4</th>\n",
       "      <td>1</td>\n",
       "      <td>1</td>\n",
       "      <td>Futrelle, Mrs. Jacques Heath (Lily May Peel)</td>\n",
       "      <td>female</td>\n",
       "      <td>35.0</td>\n",
       "      <td>1</td>\n",
       "      <td>0</td>\n",
       "      <td>113803</td>\n",
       "      <td>53.1000</td>\n",
       "      <td>C123</td>\n",
       "      <td>S</td>\n",
       "    </tr>\n",
       "    <tr>\n",
       "      <th>5</th>\n",
       "      <td>0</td>\n",
       "      <td>3</td>\n",
       "      <td>Allen, Mr. William Henry</td>\n",
       "      <td>male</td>\n",
       "      <td>35.0</td>\n",
       "      <td>0</td>\n",
       "      <td>0</td>\n",
       "      <td>373450</td>\n",
       "      <td>8.0500</td>\n",
       "      <td>NaN</td>\n",
       "      <td>S</td>\n",
       "    </tr>\n",
       "  </tbody>\n",
       "</table>\n",
       "</div>"
      ],
      "text/plain": [
       "             Survived  Pclass  \\\n",
       "PassengerId                     \n",
       "1                   0       3   \n",
       "2                   1       1   \n",
       "3                   1       3   \n",
       "4                   1       1   \n",
       "5                   0       3   \n",
       "\n",
       "                                                          Name     Sex   Age  \\\n",
       "PassengerId                                                                    \n",
       "1                                      Braund, Mr. Owen Harris    male  22.0   \n",
       "2            Cumings, Mrs. John Bradley (Florence Briggs Th...  female  38.0   \n",
       "3                                       Heikkinen, Miss. Laina  female  26.0   \n",
       "4                 Futrelle, Mrs. Jacques Heath (Lily May Peel)  female  35.0   \n",
       "5                                     Allen, Mr. William Henry    male  35.0   \n",
       "\n",
       "             SibSp  Parch            Ticket     Fare Cabin Embarked  \n",
       "PassengerId                                                          \n",
       "1                1      0         A/5 21171   7.2500   NaN        S  \n",
       "2                1      0          PC 17599  71.2833   C85        C  \n",
       "3                0      0  STON/O2. 3101282   7.9250   NaN        S  \n",
       "4                1      0            113803  53.1000  C123        S  \n",
       "5                0      0            373450   8.0500   NaN        S  "
      ]
     },
     "execution_count": 35,
     "metadata": {},
     "output_type": "execute_result"
    }
   ],
   "source": [
    "df_titanic = pd.read_csv(\"titanic-data-6.csv\", index_col=\"PassengerId\")\n",
    "df_titanic.head()"
   ]
  },
  {
   "cell_type": "markdown",
   "metadata": {},
   "source": [
    "Verificando as colunas do dataframe podemos observar que estão todas começando com letras maiusculas e algumas possuem mais de uma letraa maiusculaa na mesma palavra, então será colocado todos os valores das colunas para letras minusculas para que seja mais facil o acesso aos dados"
   ]
  },
  {
   "cell_type": "code",
   "execution_count": 36,
   "metadata": {},
   "outputs": [
    {
     "name": "stdout",
     "output_type": "stream",
     "text": [
      "0 Survived\n",
      "1 Pclass\n",
      "2 Name\n",
      "3 Sex\n",
      "4 Age\n",
      "5 SibSp\n",
      "6 Parch\n",
      "7 Ticket\n",
      "8 Fare\n",
      "9 Cabin\n",
      "10 Embarked\n"
     ]
    }
   ],
   "source": [
    "#Colunas do dataframe\n",
    "for i, v in enumerate(df_titanic.columns):\n",
    "    print(i, v)"
   ]
  },
  {
   "cell_type": "code",
   "execution_count": 37,
   "metadata": {},
   "outputs": [
    {
     "name": "stdout",
     "output_type": "stream",
     "text": [
      "0 survived\n",
      "1 pclass\n",
      "2 name\n",
      "3 sex\n",
      "4 age\n",
      "5 sibsp\n",
      "6 parch\n",
      "7 ticket\n",
      "8 fare\n",
      "9 cabin\n",
      "10 embarked\n"
     ]
    }
   ],
   "source": [
    "#colocando todas as colunas com letras minusculas para facilidade de acesso \n",
    "df_titanic.rename(columns=lambda x: x.strip().lower(), inplace=True)\n",
    "df_titanic.to_csv('titanic-data-6.csv', index=False)\n",
    "for i, v in enumerate(df_titanic.columns):\n",
    "    print(i, v)"
   ]
  },
  {
   "cell_type": "markdown",
   "metadata": {},
   "source": [
    "Para futura análise, vamos acrescentar uma coluna pala classificar os tripulantes no návio como criança, adulto e idoso. Para isso será acrescentado uma coluna \"age_levels\" ao dataframe."
   ]
  },
  {
   "cell_type": "code",
   "execution_count": 38,
   "metadata": {},
   "outputs": [],
   "source": [
    "#Criação de limites para adicionar a coluna age_levels ao dataframe\n",
    "bin_edges = [ 0, 18, 60, 100]\n",
    "bin_names = [ 'Crianca', 'Adulto' , 'Idoso']\n",
    "df_titanic['age_levels'] = pd.cut(df_titanic['age'], bin_edges, labels=bin_names)"
   ]
  },
  {
   "cell_type": "markdown",
   "metadata": {},
   "source": [
    "Algumas informações não são necessárias para responder as perguntas feitas para a análise dos dados, então para isso será removida as colunas desnecessárias."
   ]
  },
  {
   "cell_type": "code",
   "execution_count": 39,
   "metadata": {},
   "outputs": [],
   "source": [
    "#Excluir colunas que não serão utilizadas para análise\n",
    "drop_list = ['ticket', 'cabin']\n",
    "df_titanic.drop(drop_list, axis=1, inplace=True)"
   ]
  },
  {
   "cell_type": "code",
   "execution_count": 40,
   "metadata": {},
   "outputs": [
    {
     "name": "stdout",
     "output_type": "stream",
     "text": [
      "0 survived\n",
      "1 pclass\n",
      "2 name\n",
      "3 sex\n",
      "4 age\n",
      "5 sibsp\n",
      "6 parch\n",
      "7 fare\n",
      "8 embarked\n",
      "9 age_levels\n"
     ]
    }
   ],
   "source": [
    "#Verificando modificações\n",
    "for i, v in enumerate(df_titanic.columns):\n",
    "    print(i, v)"
   ]
  },
  {
   "cell_type": "markdown",
   "metadata": {},
   "source": [
    "Também é preciso analisar o dataframe para verificar se as amostras possuem algum dado nulo, e assim tratar esses dados inexistentes."
   ]
  },
  {
   "cell_type": "code",
   "execution_count": 41,
   "metadata": {},
   "outputs": [
    {
     "name": "stdout",
     "output_type": "stream",
     "text": [
      "Quantidade de dados duplicados no dataframe: 0\n"
     ]
    }
   ],
   "source": [
    "#Verificando dados duplicados\n",
    "print(\"Quantidade de dados duplicados no dataframe: {}\".format(df_titanic.duplicated().sum()))"
   ]
  },
  {
   "cell_type": "code",
   "execution_count": 42,
   "metadata": {},
   "outputs": [
    {
     "data": {
      "text/plain": [
       "survived        0\n",
       "pclass          0\n",
       "name            0\n",
       "sex             0\n",
       "age           177\n",
       "sibsp           0\n",
       "parch           0\n",
       "fare            0\n",
       "embarked        2\n",
       "age_levels    177\n",
       "dtype: int64"
      ]
     },
     "execution_count": 42,
     "metadata": {},
     "output_type": "execute_result"
    }
   ],
   "source": [
    "#Verificando valores nulos em cada coluna\n",
    "df_titanic.isnull().sum()"
   ]
  },
  {
   "cell_type": "markdown",
   "metadata": {},
   "source": [
    "Existem muitos dados de idade sem registro, se removessemos esses dados estariamos comprometendo a análise dos dados. Então para esse problema serão substituidos os dados nulos pela média da idade da amostra."
   ]
  },
  {
   "cell_type": "code",
   "execution_count": 43,
   "metadata": {},
   "outputs": [],
   "source": [
    "#Alterando dados nulos para valores da média\n",
    "df_titanic['age'].fillna(df_titanic['age'].mean(), inplace=True)"
   ]
  },
  {
   "cell_type": "markdown",
   "metadata": {},
   "source": [
    "Como existe somente dois dados nulos do local onde o passageiro embarcou, vamos eliminar esses dados pois não serão relevantes para a análise."
   ]
  },
  {
   "cell_type": "code",
   "execution_count": 44,
   "metadata": {},
   "outputs": [],
   "source": [
    "#Removendo valores nulos\n",
    "df_titanic.dropna(inplace=True, how='any')"
   ]
  },
  {
   "cell_type": "code",
   "execution_count": 45,
   "metadata": {},
   "outputs": [
    {
     "data": {
      "text/plain": [
       "survived      0\n",
       "pclass        0\n",
       "name          0\n",
       "sex           0\n",
       "age           0\n",
       "sibsp         0\n",
       "parch         0\n",
       "fare          0\n",
       "embarked      0\n",
       "age_levels    0\n",
       "dtype: int64"
      ]
     },
     "execution_count": 45,
     "metadata": {},
     "output_type": "execute_result"
    }
   ],
   "source": [
    "#Verificando as alterações\n",
    "df_titanic.isnull().sum()"
   ]
  },
  {
   "cell_type": "markdown",
   "metadata": {},
   "source": [
    "Também é necessário verificar os tipos dos dados que estão sendo trabalhados, alguns dados podemo ser mais faceis de trabalhar com outro formato."
   ]
  },
  {
   "cell_type": "code",
   "execution_count": 46,
   "metadata": {},
   "outputs": [
    {
     "name": "stdout",
     "output_type": "stream",
     "text": [
      "coluna: survived, tipo: <class 'numpy.int64'>\n",
      "coluna: pclass, tipo: <class 'numpy.int64'>\n",
      "coluna: name, tipo: <class 'str'>\n",
      "coluna: sex, tipo: <class 'str'>\n",
      "coluna: age, tipo: <class 'numpy.float64'>\n",
      "coluna: sibsp, tipo: <class 'numpy.int64'>\n",
      "coluna: parch, tipo: <class 'numpy.int64'>\n",
      "coluna: fare, tipo: <class 'numpy.float64'>\n",
      "coluna: embarked, tipo: <class 'str'>\n",
      "coluna: age_levels, tipo: <class 'str'>\n"
     ]
    }
   ],
   "source": [
    "#Analisando formato dos dados de cada coluna\n",
    "for column in df_titanic.columns:\n",
    "        print(\"coluna: {0}, tipo: {1}\".format(column, type(df_titanic[column][1])))"
   ]
  },
  {
   "cell_type": "markdown",
   "metadata": {},
   "source": [
    "Visualizando os tipos dos dados, é possível verificar que as idades estão como tipo float, para facilitar os calculos vamos passar as idades para o tipo int64."
   ]
  },
  {
   "cell_type": "code",
   "execution_count": 47,
   "metadata": {},
   "outputs": [],
   "source": [
    "#Alterando tipo do dado da coluna age\n",
    "df_titanic['age'] = df_titanic['age'].astype(int)"
   ]
  },
  {
   "cell_type": "code",
   "execution_count": 48,
   "metadata": {},
   "outputs": [
    {
     "name": "stdout",
     "output_type": "stream",
     "text": [
      "coluna: age, tipo: <class 'numpy.int64'>\n"
     ]
    }
   ],
   "source": [
    "#Verificando a modificação\n",
    "print(\"coluna: age, tipo: {}\".format(type(df_titanic['age'][1])))"
   ]
  },
  {
   "cell_type": "markdown",
   "metadata": {},
   "source": [
    "Por fim é importante salvar o dataframe com os dados modificados."
   ]
  },
  {
   "cell_type": "code",
   "execution_count": 49,
   "metadata": {},
   "outputs": [
    {
     "data": {
      "text/html": [
       "<div>\n",
       "<style scoped>\n",
       "    .dataframe tbody tr th:only-of-type {\n",
       "        vertical-align: middle;\n",
       "    }\n",
       "\n",
       "    .dataframe tbody tr th {\n",
       "        vertical-align: top;\n",
       "    }\n",
       "\n",
       "    .dataframe thead th {\n",
       "        text-align: right;\n",
       "    }\n",
       "</style>\n",
       "<table border=\"1\" class=\"dataframe\">\n",
       "  <thead>\n",
       "    <tr style=\"text-align: right;\">\n",
       "      <th></th>\n",
       "      <th>survived</th>\n",
       "      <th>pclass</th>\n",
       "      <th>name</th>\n",
       "      <th>sex</th>\n",
       "      <th>age</th>\n",
       "      <th>sibsp</th>\n",
       "      <th>parch</th>\n",
       "      <th>fare</th>\n",
       "      <th>embarked</th>\n",
       "      <th>age_levels</th>\n",
       "    </tr>\n",
       "    <tr>\n",
       "      <th>PassengerId</th>\n",
       "      <th></th>\n",
       "      <th></th>\n",
       "      <th></th>\n",
       "      <th></th>\n",
       "      <th></th>\n",
       "      <th></th>\n",
       "      <th></th>\n",
       "      <th></th>\n",
       "      <th></th>\n",
       "      <th></th>\n",
       "    </tr>\n",
       "  </thead>\n",
       "  <tbody>\n",
       "    <tr>\n",
       "      <th>1</th>\n",
       "      <td>0</td>\n",
       "      <td>3</td>\n",
       "      <td>Braund, Mr. Owen Harris</td>\n",
       "      <td>male</td>\n",
       "      <td>22</td>\n",
       "      <td>1</td>\n",
       "      <td>0</td>\n",
       "      <td>7.2500</td>\n",
       "      <td>S</td>\n",
       "      <td>Adulto</td>\n",
       "    </tr>\n",
       "    <tr>\n",
       "      <th>2</th>\n",
       "      <td>1</td>\n",
       "      <td>1</td>\n",
       "      <td>Cumings, Mrs. John Bradley (Florence Briggs Th...</td>\n",
       "      <td>female</td>\n",
       "      <td>38</td>\n",
       "      <td>1</td>\n",
       "      <td>0</td>\n",
       "      <td>71.2833</td>\n",
       "      <td>C</td>\n",
       "      <td>Adulto</td>\n",
       "    </tr>\n",
       "    <tr>\n",
       "      <th>3</th>\n",
       "      <td>1</td>\n",
       "      <td>3</td>\n",
       "      <td>Heikkinen, Miss. Laina</td>\n",
       "      <td>female</td>\n",
       "      <td>26</td>\n",
       "      <td>0</td>\n",
       "      <td>0</td>\n",
       "      <td>7.9250</td>\n",
       "      <td>S</td>\n",
       "      <td>Adulto</td>\n",
       "    </tr>\n",
       "    <tr>\n",
       "      <th>4</th>\n",
       "      <td>1</td>\n",
       "      <td>1</td>\n",
       "      <td>Futrelle, Mrs. Jacques Heath (Lily May Peel)</td>\n",
       "      <td>female</td>\n",
       "      <td>35</td>\n",
       "      <td>1</td>\n",
       "      <td>0</td>\n",
       "      <td>53.1000</td>\n",
       "      <td>S</td>\n",
       "      <td>Adulto</td>\n",
       "    </tr>\n",
       "    <tr>\n",
       "      <th>5</th>\n",
       "      <td>0</td>\n",
       "      <td>3</td>\n",
       "      <td>Allen, Mr. William Henry</td>\n",
       "      <td>male</td>\n",
       "      <td>35</td>\n",
       "      <td>0</td>\n",
       "      <td>0</td>\n",
       "      <td>8.0500</td>\n",
       "      <td>S</td>\n",
       "      <td>Adulto</td>\n",
       "    </tr>\n",
       "    <tr>\n",
       "      <th>7</th>\n",
       "      <td>0</td>\n",
       "      <td>1</td>\n",
       "      <td>McCarthy, Mr. Timothy J</td>\n",
       "      <td>male</td>\n",
       "      <td>54</td>\n",
       "      <td>0</td>\n",
       "      <td>0</td>\n",
       "      <td>51.8625</td>\n",
       "      <td>S</td>\n",
       "      <td>Adulto</td>\n",
       "    </tr>\n",
       "    <tr>\n",
       "      <th>8</th>\n",
       "      <td>0</td>\n",
       "      <td>3</td>\n",
       "      <td>Palsson, Master. Gosta Leonard</td>\n",
       "      <td>male</td>\n",
       "      <td>2</td>\n",
       "      <td>3</td>\n",
       "      <td>1</td>\n",
       "      <td>21.0750</td>\n",
       "      <td>S</td>\n",
       "      <td>Crianca</td>\n",
       "    </tr>\n",
       "    <tr>\n",
       "      <th>9</th>\n",
       "      <td>1</td>\n",
       "      <td>3</td>\n",
       "      <td>Johnson, Mrs. Oscar W (Elisabeth Vilhelmina Berg)</td>\n",
       "      <td>female</td>\n",
       "      <td>27</td>\n",
       "      <td>0</td>\n",
       "      <td>2</td>\n",
       "      <td>11.1333</td>\n",
       "      <td>S</td>\n",
       "      <td>Adulto</td>\n",
       "    </tr>\n",
       "    <tr>\n",
       "      <th>10</th>\n",
       "      <td>1</td>\n",
       "      <td>2</td>\n",
       "      <td>Nasser, Mrs. Nicholas (Adele Achem)</td>\n",
       "      <td>female</td>\n",
       "      <td>14</td>\n",
       "      <td>1</td>\n",
       "      <td>0</td>\n",
       "      <td>30.0708</td>\n",
       "      <td>C</td>\n",
       "      <td>Crianca</td>\n",
       "    </tr>\n",
       "    <tr>\n",
       "      <th>11</th>\n",
       "      <td>1</td>\n",
       "      <td>3</td>\n",
       "      <td>Sandstrom, Miss. Marguerite Rut</td>\n",
       "      <td>female</td>\n",
       "      <td>4</td>\n",
       "      <td>1</td>\n",
       "      <td>1</td>\n",
       "      <td>16.7000</td>\n",
       "      <td>S</td>\n",
       "      <td>Crianca</td>\n",
       "    </tr>\n",
       "  </tbody>\n",
       "</table>\n",
       "</div>"
      ],
      "text/plain": [
       "             survived  pclass  \\\n",
       "PassengerId                     \n",
       "1                   0       3   \n",
       "2                   1       1   \n",
       "3                   1       3   \n",
       "4                   1       1   \n",
       "5                   0       3   \n",
       "7                   0       1   \n",
       "8                   0       3   \n",
       "9                   1       3   \n",
       "10                  1       2   \n",
       "11                  1       3   \n",
       "\n",
       "                                                          name     sex  age  \\\n",
       "PassengerId                                                                   \n",
       "1                                      Braund, Mr. Owen Harris    male   22   \n",
       "2            Cumings, Mrs. John Bradley (Florence Briggs Th...  female   38   \n",
       "3                                       Heikkinen, Miss. Laina  female   26   \n",
       "4                 Futrelle, Mrs. Jacques Heath (Lily May Peel)  female   35   \n",
       "5                                     Allen, Mr. William Henry    male   35   \n",
       "7                                      McCarthy, Mr. Timothy J    male   54   \n",
       "8                               Palsson, Master. Gosta Leonard    male    2   \n",
       "9            Johnson, Mrs. Oscar W (Elisabeth Vilhelmina Berg)  female   27   \n",
       "10                         Nasser, Mrs. Nicholas (Adele Achem)  female   14   \n",
       "11                             Sandstrom, Miss. Marguerite Rut  female    4   \n",
       "\n",
       "             sibsp  parch     fare embarked age_levels  \n",
       "PassengerId                                             \n",
       "1                1      0   7.2500        S     Adulto  \n",
       "2                1      0  71.2833        C     Adulto  \n",
       "3                0      0   7.9250        S     Adulto  \n",
       "4                1      0  53.1000        S     Adulto  \n",
       "5                0      0   8.0500        S     Adulto  \n",
       "7                0      0  51.8625        S     Adulto  \n",
       "8                3      1  21.0750        S    Crianca  \n",
       "9                0      2  11.1333        S     Adulto  \n",
       "10               1      0  30.0708        C    Crianca  \n",
       "11               1      1  16.7000        S    Crianca  "
      ]
     },
     "execution_count": 49,
     "metadata": {},
     "output_type": "execute_result"
    }
   ],
   "source": [
    "#Salvando o arquivo em formato CSV\n",
    "df_titanic.to_csv(\"titanic-para-analise.csv\", index=False)\n",
    "\n",
    "#Verificando o dataframe\n",
    "df_titanic.head(10)"
   ]
  },
  {
   "cell_type": "markdown",
   "metadata": {},
   "source": [
    "# Terceiro Passo\n",
    "Análise exploratória dos dados\n",
    "\n",
    "Com os dados organizados pode-se começar a desevolver uma análise, essa etapa portanto envolve encontrar padrões e relações entre os dados e entender sobre o assunto que esta sendo abordado"
   ]
  },
  {
   "cell_type": "code",
   "execution_count": 51,
   "metadata": {},
   "outputs": [
    {
     "data": {
      "text/html": [
       "<div>\n",
       "<style scoped>\n",
       "    .dataframe tbody tr th:only-of-type {\n",
       "        vertical-align: middle;\n",
       "    }\n",
       "\n",
       "    .dataframe tbody tr th {\n",
       "        vertical-align: top;\n",
       "    }\n",
       "\n",
       "    .dataframe thead th {\n",
       "        text-align: right;\n",
       "    }\n",
       "</style>\n",
       "<table border=\"1\" class=\"dataframe\">\n",
       "  <thead>\n",
       "    <tr style=\"text-align: right;\">\n",
       "      <th></th>\n",
       "      <th>survived</th>\n",
       "      <th>pclass</th>\n",
       "      <th>name</th>\n",
       "      <th>sex</th>\n",
       "      <th>age</th>\n",
       "      <th>sibsp</th>\n",
       "      <th>parch</th>\n",
       "      <th>fare</th>\n",
       "      <th>embarked</th>\n",
       "      <th>age_levels</th>\n",
       "    </tr>\n",
       "  </thead>\n",
       "  <tbody>\n",
       "    <tr>\n",
       "      <th>0</th>\n",
       "      <td>0</td>\n",
       "      <td>3</td>\n",
       "      <td>Braund, Mr. Owen Harris</td>\n",
       "      <td>male</td>\n",
       "      <td>22</td>\n",
       "      <td>1</td>\n",
       "      <td>0</td>\n",
       "      <td>7.2500</td>\n",
       "      <td>S</td>\n",
       "      <td>Adulto</td>\n",
       "    </tr>\n",
       "    <tr>\n",
       "      <th>1</th>\n",
       "      <td>1</td>\n",
       "      <td>1</td>\n",
       "      <td>Cumings, Mrs. John Bradley (Florence Briggs Th...</td>\n",
       "      <td>female</td>\n",
       "      <td>38</td>\n",
       "      <td>1</td>\n",
       "      <td>0</td>\n",
       "      <td>71.2833</td>\n",
       "      <td>C</td>\n",
       "      <td>Adulto</td>\n",
       "    </tr>\n",
       "    <tr>\n",
       "      <th>2</th>\n",
       "      <td>1</td>\n",
       "      <td>3</td>\n",
       "      <td>Heikkinen, Miss. Laina</td>\n",
       "      <td>female</td>\n",
       "      <td>26</td>\n",
       "      <td>0</td>\n",
       "      <td>0</td>\n",
       "      <td>7.9250</td>\n",
       "      <td>S</td>\n",
       "      <td>Adulto</td>\n",
       "    </tr>\n",
       "    <tr>\n",
       "      <th>3</th>\n",
       "      <td>1</td>\n",
       "      <td>1</td>\n",
       "      <td>Futrelle, Mrs. Jacques Heath (Lily May Peel)</td>\n",
       "      <td>female</td>\n",
       "      <td>35</td>\n",
       "      <td>1</td>\n",
       "      <td>0</td>\n",
       "      <td>53.1000</td>\n",
       "      <td>S</td>\n",
       "      <td>Adulto</td>\n",
       "    </tr>\n",
       "    <tr>\n",
       "      <th>4</th>\n",
       "      <td>0</td>\n",
       "      <td>3</td>\n",
       "      <td>Allen, Mr. William Henry</td>\n",
       "      <td>male</td>\n",
       "      <td>35</td>\n",
       "      <td>0</td>\n",
       "      <td>0</td>\n",
       "      <td>8.0500</td>\n",
       "      <td>S</td>\n",
       "      <td>Adulto</td>\n",
       "    </tr>\n",
       "  </tbody>\n",
       "</table>\n",
       "</div>"
      ],
      "text/plain": [
       "   survived  pclass                                               name  \\\n",
       "0         0       3                            Braund, Mr. Owen Harris   \n",
       "1         1       1  Cumings, Mrs. John Bradley (Florence Briggs Th...   \n",
       "2         1       3                             Heikkinen, Miss. Laina   \n",
       "3         1       1       Futrelle, Mrs. Jacques Heath (Lily May Peel)   \n",
       "4         0       3                           Allen, Mr. William Henry   \n",
       "\n",
       "      sex  age  sibsp  parch     fare embarked age_levels  \n",
       "0    male   22      1      0   7.2500        S     Adulto  \n",
       "1  female   38      1      0  71.2833        C     Adulto  \n",
       "2  female   26      0      0   7.9250        S     Adulto  \n",
       "3  female   35      1      0  53.1000        S     Adulto  \n",
       "4    male   35      0      0   8.0500        S     Adulto  "
      ]
     },
     "execution_count": 51,
     "metadata": {},
     "output_type": "execute_result"
    }
   ],
   "source": [
    "#Lendo arquivo de análise\n",
    "df_titanic = pd.read_csv(\"titanic-para-analise.csv\")\n",
    "df_titanic.head()"
   ]
  },
  {
   "cell_type": "code",
   "execution_count": 52,
   "metadata": {},
   "outputs": [
    {
     "data": {
      "image/png": "[encoded data removed]",
      "text/plain": [
       "<Figure size 432x288 with 1 Axes>"
      ]
     },
     "metadata": {
      "needs_background": "light"
     },
     "output_type": "display_data"
    }
   ],
   "source": [
    "#Histograma sobreviventes\n",
    "df_titanic['survived'].value_counts().plot(kind='bar');"
   ]
  },
  {
   "cell_type": "markdown",
   "metadata": {},
   "source": [
    "Valor zero para sobreviventes e valor 1 para não sobreviventes."
   ]
  },
  {
   "cell_type": "code",
   "execution_count": 53,
   "metadata": {},
   "outputs": [
    {
     "data": {
      "image/png": "[encoded data removed]",
      "text/plain": [
       "<Figure size 432x288 with 1 Axes>"
      ]
     },
     "metadata": {
      "needs_background": "light"
     },
     "output_type": "display_data"
    }
   ],
   "source": [
    "#Histograma Classes\n",
    "df_titanic['pclass'].value_counts().plot(kind='bar');"
   ]
  },
  {
   "cell_type": "code",
   "execution_count": 54,
   "metadata": {},
   "outputs": [
    {
     "data": {
      "image/png": "[encoded data removed]",
      "text/plain": [
       "<Figure size 432x288 with 1 Axes>"
      ]
     },
     "metadata": {
      "needs_background": "light"
     },
     "output_type": "display_data"
    }
   ],
   "source": [
    "#Histograma idades\n",
    "df_titanic['age'].hist();"
   ]
  },
  {
   "cell_type": "markdown",
   "metadata": {},
   "source": [
    "Histograma acima mostra o conjunto de dados com a variavel deslocada para direita"
   ]
  },
  {
   "cell_type": "code",
   "execution_count": 58,
   "metadata": {},
   "outputs": [
    {
     "data": {
      "image/png": "[encoded data removed]",
      "text/plain": [
       "<Figure size 576x576 with 1 Axes>"
      ]
     },
     "metadata": {},
     "output_type": "display_data"
    }
   ],
   "source": [
    "#Histograma familiar\n",
    "df_titanic['sibsp'].value_counts().plot(kind='pie', figsize=(8,8));"
   ]
  },
  {
   "cell_type": "code",
   "execution_count": 60,
   "metadata": {},
   "outputs": [
    {
     "data": {
      "image/png": "[encoded data removed]",
      "text/plain": [
       "<Figure size 576x576 with 1 Axes>"
      ]
     },
     "metadata": {},
     "output_type": "display_data"
    }
   ],
   "source": [
    "#Histograma familiar\n",
    "df_titanic['parch'].value_counts().plot(kind='pie', figsize=(8,8));"
   ]
  },
  {
   "cell_type": "markdown",
   "metadata": {},
   "source": [
    "A caracteristica dos histogramas com relação as variaveis familiares tambem aparecem distorcidos para direita."
   ]
  },
  {
   "cell_type": "code",
   "execution_count": 64,
   "metadata": {},
   "outputs": [
    {
     "data": {
      "image/png": "[encoded data removed]",
      "text/plain": [
       "<Figure size 432x288 with 1 Axes>"
      ]
     },
     "metadata": {
      "needs_background": "light"
     },
     "output_type": "display_data"
    }
   ],
   "source": [
    "#Dispersão taxa pela classe\n",
    "df_titanic.plot(x='pclass', y='fare', kind='scatter');"
   ]
  },
  {
   "cell_type": "markdown",
   "metadata": {},
   "source": [
    "Os valores das taxas para a primeira classe estão mais dispersos."
   ]
  },
  {
   "cell_type": "code",
   "execution_count": 67,
   "metadata": {},
   "outputs": [
    {
     "data": {
      "image/png": "[encoded data removed]",
      "text/plain": [
       "<Figure size 432x288 with 1 Axes>"
      ]
     },
     "metadata": {
      "needs_background": "light"
     },
     "output_type": "display_data"
    }
   ],
   "source": [
    "#Dispersão idade pela classe\n",
    "df_titanic.plot(x='pclass', y='age', kind='scatter');"
   ]
  },
  {
   "cell_type": "markdown",
   "metadata": {},
   "source": [
    "Dispersão da primeira classe tem uma quantidade maoir para idades mais elevadas."
   ]
  },
  {
   "cell_type": "markdown",
   "metadata": {},
   "source": [
    "# Quarto e Quinto Passo\n",
    "Tirando conclusões dos dados.\n",
    "Comunicando os resultados.\n",
    "\n",
    "Depois de encontrada as relações entre as variáveis, pode-se tirar as conclusões sobre as perguntas abordadas e comunicar os resultados através de gráficos."
   ]
  },
  {
   "cell_type": "markdown",
   "metadata": {},
   "source": [
    "## Conclusão sobre a primeira pergunta"
   ]
  },
  {
   "cell_type": "code",
   "execution_count": 68,
   "metadata": {},
   "outputs": [],
   "source": [
    "#Criação de um dataframe auxiliar somente com sobreviventes\n",
    "survived = df_titanic.query('survived == 1')"
   ]
  },
  {
   "cell_type": "code",
   "execution_count": 71,
   "metadata": {},
   "outputs": [
    {
     "name": "stdout",
     "output_type": "stream",
     "text": [
      "Sobreviveram 70 crianças a bordo\n",
      "Sobreviveram 214 adultos a bordo\n",
      "Sobreviveram 4 idosos a bordo\n"
     ]
    }
   ],
   "source": [
    "print(\"Sobreviveram {} crianças a bordo\".format(survived.query(\"age_levels == 'Crianca'\")['age_levels'].count()))\n",
    "print(\"Sobreviveram {} adultos a bordo\".format(survived.query(\"age_levels == 'Adulto'\")['age_levels'].count()))\n",
    "print(\"Sobreviveram {} idosos a bordo\".format(survived.query(\"age_levels == 'Idoso'\")['age_levels'].count()))"
   ]
  },
  {
   "cell_type": "markdown",
   "metadata": {},
   "source": [
    "É possível observar que a maior quantidade de pessoas sobreviventes está na classe adulta, enquanto a menos esta entre os idosos."
   ]
  },
  {
   "cell_type": "code",
   "execution_count": 76,
   "metadata": {},
   "outputs": [
    {
     "name": "stdout",
     "output_type": "stream",
     "text": [
      "Sobreviveram 50.36% das crianças a bordo\n",
      "Sobreviveram 38.77% dos adultos a bordo\n",
      "Sobreviveram 19.05% dos idosos a bordo\n"
     ]
    }
   ],
   "source": [
    "#Verificação da porcentagem de cada classe de idade sobrevivente\n",
    "total_criancas = df_titanic.query(\"age_levels == 'Crianca'\").shape[0]\n",
    "total_adultos = df_titanic.query(\"age_levels == 'Adulto'\").shape[0]\n",
    "total_idosos = df_titanic.query(\"age_levels == 'Idoso'\").shape[0]\n",
    "\n",
    "print(\"Sobreviveram {0:.2f}% das crianças a bordo\".format(survived.query(\"age_levels == 'Crianca'\")['age_levels'].count()/total_criancas*100))\n",
    "print(\"Sobreviveram {0:.2f}% dos adultos a bordo\".format(survived.query(\"age_levels == 'Adulto'\")['age_levels'].count()/total_adultos*100))\n",
    "print(\"Sobreviveram {0:.2f}% dos idosos a bordo\".format(survived.query(\"age_levels == 'Idoso'\")['age_levels'].count()/total_idosos*100))"
   ]
  },
  {
   "cell_type": "markdown",
   "metadata": {},
   "source": [
    "Apesar da quantidade de sobreviventes ser maior entre os adultos, a porcentagem de crianças que estavam a bordo e sobreviveram é a maior entre as três. Podendo chegar a conclusão de que tentaram salvar a maioria das crianças, e os adultos por serem mais ageis foram os que mais conseguiram sobreviver. Já os idosos não tiveram muitos sobreviventes, e somente 22% conseguiram sobreviver, isso provalvelmente por não conseguirem abandonar o navío que estava naufragando."
   ]
  },
  {
   "cell_type": "code",
   "execution_count": 82,
   "metadata": {},
   "outputs": [
    {
     "data": {
      "image/png": "[encoded data removed]",
      "text/plain": [
       "<Figure size 432x288 with 1 Axes>"
      ]
     },
     "metadata": {
      "needs_background": "light"
     },
     "output_type": "display_data"
    }
   ],
   "source": [
    "#Grafico da quantidade de sobreviventes pela idade\n",
    "locations = [1, 2, 3]\n",
    "heights = [survived.query(\"age_levels == 'Crianca'\")['age_levels'].count(), survived.query(\"age_levels == 'Adulto'\")['age_levels'].count(), survived.query(\"age_levels == 'Idoso'\")['age_levels'].count()]\n",
    "labels = ['Criança', 'Adulto', 'Idoso']\n",
    "plt.bar(locations, heights, tick_label=labels)\n",
    "plt.title('Qtde. Sobreviventes pela idade')\n",
    "plt.xlabel('Idade')\n",
    "plt.ylabel('Qtde. Sobreviventes');"
   ]
  },
  {
   "cell_type": "code",
   "execution_count": 84,
   "metadata": {},
   "outputs": [
    {
     "data": {
      "image/png": "[encoded data removed]",
      "text/plain": [
       "<Figure size 432x288 with 1 Axes>"
      ]
     },
     "metadata": {
      "needs_background": "light"
     },
     "output_type": "display_data"
    }
   ],
   "source": [
    "#Grafico proporção de sobreviventes pela idade\n",
    "locations = [1, 2, 3]\n",
    "heights = [survived.query(\"age_levels == 'Crianca'\")['age_levels'].count()/total_criancas*100, survived.query(\"age_levels == 'Adulto'\")['age_levels'].count()/total_adultos*100, survived.query(\"age_levels == 'Idoso'\")['age_levels'].count()/total_idosos*100]\n",
    "labels = ['Criança', 'Adulto', 'Idoso']\n",
    "plt.bar(locations, heights, tick_label=labels)\n",
    "plt.title('Proporção Sobreviventes pela idade')\n",
    "plt.xlabel('Idade')\n",
    "plt.ylabel('% Sobreviventes');"
   ]
  },
  {
   "cell_type": "markdown",
   "metadata": {},
   "source": [
    "Comunicação das conclusões através dos gráficos acima."
   ]
  },
  {
   "cell_type": "code",
   "execution_count": 101,
   "metadata": {},
   "outputs": [
    {
     "name": "stdout",
     "output_type": "stream",
     "text": [
      "Sobreviveram 195 mulheres\n",
      "Sobreviveram 93 homens\n"
     ]
    }
   ],
   "source": [
    "female = df_titanic.query(\"sex == 'female'\")\n",
    "male = df_titanic.query(\"sex == 'male'\")\n",
    "\n",
    "print(\"Sobreviveram {} mulheres\".format(female.query(\"survived == 1\")['survived'].count()))\n",
    "print(\"Sobreviveram {} homens\".format(male.query(\"survived == 1\")['survived'].count()))"
   ]
  },
  {
   "cell_type": "markdown",
   "metadata": {},
   "source": [
    "Pelo calculo é possível observar que a quantidade de pessoas sobreviventes foram a maioria mulheres."
   ]
  },
  {
   "cell_type": "code",
   "execution_count": 102,
   "metadata": {},
   "outputs": [
    {
     "name": "stdout",
     "output_type": "stream",
     "text": [
      "Sobreviveram 75.29% das mulheres\n",
      "Sobreviveram 20.53% dos homens\n"
     ]
    }
   ],
   "source": [
    "#Verificação da porcentagem de sobreviventes quanto ao sexo\n",
    "total_female = female.shape[0]\n",
    "total_male = male.shape[0]\n",
    "print(\"Sobreviveram {0:.2f}% das mulheres\".format(female.query(\"survived == 1\")['survived'].count()/total_female*100))\n",
    "print(\"Sobreviveram {0:.2f}% dos homens\".format(male.query(\"survived == 1\")['survived'].count()/total_male*100))"
   ]
  },
  {
   "cell_type": "markdown",
   "metadata": {},
   "source": [
    "A porcentagem de mulheres sobreviventes tambem é muito maior que a de homens, isso pode ser ao fato de terem dado a preferência para salvar as mulheres. Os homens provalvelmete ficaram auxiliando para que todos pudessem abandonar o navio."
   ]
  },
  {
   "cell_type": "code",
   "execution_count": 103,
   "metadata": {},
   "outputs": [
    {
     "data": {
      "image/png": "[encoded data removed]",
      "text/plain": [
       "<Figure size 432x288 with 1 Axes>"
      ]
     },
     "metadata": {
      "needs_background": "light"
     },
     "output_type": "display_data"
    }
   ],
   "source": [
    "#Grafico da quantidade de sobreviventes por sexo\n",
    "locations = [1, 2]\n",
    "heights = [female.query(\"survived == 1\")['survived'].count(), male.query(\"survived == 1\")['survived'].count()]\n",
    "labels = ['Mulheres Sobreviventes', 'Homens Sobreviventes']\n",
    "plt.bar(locations, heights, tick_label=labels)\n",
    "plt.title('Qtde. Sobreviventes por Sexo')\n",
    "plt.xlabel('Sexo')\n",
    "plt.ylabel('Qtde. Sobreviventes');"
   ]
  },
  {
   "cell_type": "code",
   "execution_count": 106,
   "metadata": {},
   "outputs": [
    {
     "data": {
      "image/png": "[encoded data removed]",
      "text/plain": [
       "<Figure size 432x288 with 1 Axes>"
      ]
     },
     "metadata": {
      "needs_background": "light"
     },
     "output_type": "display_data"
    }
   ],
   "source": [
    "#Grafico proporção de sobreviventes por sexo\n",
    "female = df_titanic.query(\"sex == 'female'\")\n",
    "male = df_titanic.query(\"sex == 'male'\")\n",
    "locations = [1, 2]\n",
    "heights = [female.query(\"survived == 1\")['survived'].count()/female.shape[0]*100, male.query(\"survived == 1\")['survived'].count()/male.shape[0]*100]\n",
    "labels = ['Mulheres Sobreviventes', 'Homens Sobreviventes']\n",
    "plt.bar(locations, heights, tick_label=labels)\n",
    "plt.title('Proporção Sobreviventes por Sexo')\n",
    "plt.xlabel('Sexo')\n",
    "plt.ylabel('% Sobreviventes');"
   ]
  },
  {
   "cell_type": "markdown",
   "metadata": {},
   "source": [
    "Comunicação das conclusões através dos gráficos acima."
   ]
  },
  {
   "cell_type": "code",
   "execution_count": 107,
   "metadata": {},
   "outputs": [
    {
     "name": "stdout",
     "output_type": "stream",
     "text": [
      "Sobreviveram 120 da primeira classe\n",
      "Sobreviveram 83 da segunda classe\n",
      "Sobreviveram 85 da terceira classe\n"
     ]
    }
   ],
   "source": [
    "print(\"Sobreviveram {} da primeira classe\".format(survived.query(\"pclass == 1\")['pclass'].count()))\n",
    "print(\"Sobreviveram {} da segunda classe\".format(survived.query(\"pclass == 2\")['pclass'].count()))\n",
    "print(\"Sobreviveram {} da terceira classe\".format(survived.query(\"pclass == 3\")['pclass'].count()))"
   ]
  },
  {
   "cell_type": "markdown",
   "metadata": {},
   "source": [
    "Apesar de bem distribuida, a primeira classe foi a que teve mais sobreviventes."
   ]
  },
  {
   "cell_type": "code",
   "execution_count": 109,
   "metadata": {},
   "outputs": [
    {
     "name": "stdout",
     "output_type": "stream",
     "text": [
      "Sobreviveram 65.22% da primeira classe\n",
      "Sobreviveram 47.98% da segunda classe\n",
      "Sobreviveram 23.94% da terceira classe\n"
     ]
    }
   ],
   "source": [
    "#Verificação da porcentagem de sobreviventes quanto a classe\n",
    "total_1classe = df_titanic.query(\"pclass == 1\").shape[0]\n",
    "total_2classe = df_titanic.query(\"pclass == 2\").shape[0]\n",
    "total_3classe = df_titanic.query(\"pclass == 3\").shape[0]\n",
    "\n",
    "print(\"Sobreviveram {0:.2f}% da primeira classe\".format(survived.query(\"pclass == 1\")['pclass'].count()/total_1classe*100))\n",
    "print(\"Sobreviveram {0:.2f}% da segunda classe\".format(survived.query(\"pclass == 2\")['pclass'].count()/total_2classe*100))\n",
    "print(\"Sobreviveram {0:.2f}% da terceira classe\".format(survived.query(\"pclass == 3\")['pclass'].count()/total_3classe*100))"
   ]
  },
  {
   "cell_type": "markdown",
   "metadata": {},
   "source": [
    "Apesar da porcentagem de sobrevivência da primeira classe ter sido mais elevado que as outras duas classes, a quantidade de sobreviventes de cada classe mostra que o fator da classe das pessoas estavam no navio não afetou o fator sobervivência."
   ]
  },
  {
   "cell_type": "code",
   "execution_count": 113,
   "metadata": {},
   "outputs": [
    {
     "data": {
      "image/png": "[encoded data removed]",
      "text/plain": [
       "<Figure size 432x288 with 1 Axes>"
      ]
     },
     "metadata": {
      "needs_background": "light"
     },
     "output_type": "display_data"
    }
   ],
   "source": [
    "#Grafico da quantidade de sobreviventes quanto a classe\n",
    "locations = [1, 2, 3]\n",
    "heights = [survived.query(\"pclass == 1\")['pclass'].count(), survived.query(\"pclass == 2\")['pclass'].count(), survived.query(\"pclass == 3\")['pclass'].count()]\n",
    "labels = ['1 classe', '2 classe', '3 classe']\n",
    "plt.bar(locations, heights, tick_label=labels)\n",
    "plt.title('Qtde. Sobreviventes pela Classe')\n",
    "plt.xlabel('Classe')\n",
    "plt.ylabel('Qtde. Sobreviventes');"
   ]
  },
  {
   "cell_type": "code",
   "execution_count": 114,
   "metadata": {},
   "outputs": [
    {
     "data": {
      "image/png": "[encoded data removed]",
      "text/plain": [
       "<Figure size 432x288 with 1 Axes>"
      ]
     },
     "metadata": {
      "needs_background": "light"
     },
     "output_type": "display_data"
    }
   ],
   "source": [
    "#Grafico da quantidade de sobreviventes quanto a classe\n",
    "locations = [1, 2, 3]\n",
    "heights = [survived.query(\"pclass == 1\")['pclass'].count()/total_1classe*100, survived.query(\"pclass == 2\")['pclass'].count()/total_2classe*100, survived.query(\"pclass == 3\")['pclass'].count()/total_3classe*100]\n",
    "labels = ['1 classe', '2 classe', '3 classe']\n",
    "plt.bar(locations, heights, tick_label=labels)\n",
    "plt.title('Porcentagem Sobreviventes pela Classe')\n",
    "plt.xlabel('Classe')\n",
    "plt.ylabel('% Sobreviventes');"
   ]
  },
  {
   "cell_type": "markdown",
   "metadata": {},
   "source": [
    "Comunicação das conclusões através dos gráficos acima."
   ]
  },
  {
   "cell_type": "markdown",
   "metadata": {},
   "source": [
    "## Conclusão sobre a segunda pergunta."
   ]
  },
  {
   "cell_type": "code",
   "execution_count": 115,
   "metadata": {},
   "outputs": [
    {
     "name": "stdout",
     "output_type": "stream",
     "text": [
      "Classe: 3, Idade Média: 25.11549295774648\n",
      "Classe: 1, Idade Média: 38.09782608695652\n",
      "Classe: 2, Idade Média: 29.85549132947977\n"
     ]
    }
   ],
   "source": [
    "pclass = df_titanic['pclass'].unique()\n",
    "for pcl in pclass:\n",
    "    print('Classe: {0}, Idade Média: {1}'.format(\n",
    "                pcl, df_titanic.query(\"pclass == @pcl\")['age'].mean()))"
   ]
  },
  {
   "cell_type": "markdown",
   "metadata": {},
   "source": [
    "A idade média de cada classe mostra um aumento da idade na medida que sobe a classe, portanto quanto mais idade as pessoas tem elas tendem a escolher uma classe mais alta. Isso pode muito ser devido a questão financeira ou até mesmo o conforto."
   ]
  },
  {
   "cell_type": "markdown",
   "metadata": {},
   "source": [
    "O gráfico acima mostra a taxa média por local de embarque."
   ]
  },
  {
   "cell_type": "code",
   "execution_count": 122,
   "metadata": {},
   "outputs": [],
   "source": [
    "embarked = df_titanic['embarked'].unique()\n",
    "\n",
    "def status_classe(cl):\n",
    "    for em in embarked:\n",
    "        total = df_titanic.shape[0]\n",
    "        print('Embarcou em: {0}, Classe: {1}, Qtde. embarcados: {2}, Porcentagem embarcados: {3:.3f}, Taxa Média: {4}'.format(\n",
    "                em, cl, df_titanic.query(\"embarked == @em and pclass == @cl\")['pclass'].count(), df_titanic.query(\"embarked == @em and pclass == @cl\")['pclass'].count()/total, df_titanic.query(\"embarked == @em and pclass == @cl\")['fare'].mean()))\n",
    "    print(\"\\n\")"
   ]
  },
  {
   "cell_type": "code",
   "execution_count": 123,
   "metadata": {},
   "outputs": [
    {
     "name": "stdout",
     "output_type": "stream",
     "text": [
      "Embarcou em: S, Classe: 3, Qtde. embarcados: 290, Porcentagem embarcados: 0.407, Taxa Média: 13.529451034482758\n",
      "Embarcou em: C, Classe: 3, Qtde. embarcados: 41, Porcentagem embarcados: 0.058, Taxa Média: 11.369926829268293\n",
      "Embarcou em: Q, Classe: 3, Qtde. embarcados: 24, Porcentagem embarcados: 0.034, Taxa Média: 12.780904166666668\n",
      "\n",
      "\n",
      "Embarcou em: S, Classe: 1, Qtde. embarcados: 108, Porcentagem embarcados: 0.152, Taxa Média: 74.1724148148148\n",
      "Embarcou em: C, Classe: 1, Qtde. embarcados: 74, Porcentagem embarcados: 0.104, Taxa Média: 108.24639864864864\n",
      "Embarcou em: Q, Classe: 1, Qtde. embarcados: 2, Porcentagem embarcados: 0.003, Taxa Média: 90.0\n",
      "\n",
      "\n",
      "Embarcou em: S, Classe: 2, Qtde. embarcados: 156, Porcentagem embarcados: 0.219, Taxa Média: 21.075\n",
      "Embarcou em: C, Classe: 2, Qtde. embarcados: 15, Porcentagem embarcados: 0.021, Taxa Média: 26.81194666666666\n",
      "Embarcou em: Q, Classe: 2, Qtde. embarcados: 2, Porcentagem embarcados: 0.003, Taxa Média: 12.35\n",
      "\n",
      "\n"
     ]
    }
   ],
   "source": [
    "pclass = df_titanic['pclass'].unique()\n",
    "for pcl in pclass:\n",
    "    status_classe(pcl)"
   ]
  },
  {
   "cell_type": "markdown",
   "metadata": {},
   "source": [
    "Provavelmente o local de embarque inicial era em S, pois foi onde embarcou mais gente. A maior quantidade de embarque na primeira classe tambem foi em S, onde a taxa era a mais baixa das 3 localidades de embarque.\n",
    "Observando a proporção de primeira classe pelo local de embarque, a maior das 3 localidades foi a C, onde metade das pessoas que embarcaram foram para a primeira classe, isso pode-se dar pela qualidade de vida da cidade que pode ser melhor em C do que nas outras duas localidades."
   ]
  },
  {
   "cell_type": "code",
   "execution_count": 128,
   "metadata": {},
   "outputs": [
    {
     "data": {
      "image/png": "[encoded data removed]",
      "text/plain": [
       "<Figure size 432x288 with 1 Axes>"
      ]
     },
     "metadata": {
      "needs_background": "light"
     },
     "output_type": "display_data"
    }
   ],
   "source": [
    "#Grafico com a média de idade de cada classe\n",
    "pclass = df_titanic['pclass'].unique()\n",
    "pclass_list = []\n",
    "for pcl in pclass:\n",
    "    pclass_list.append(df_titanic.query(\"pclass == @pcl\")['age'].mean())\n",
    "\n",
    "locations = [1, 2, 3]\n",
    "heights = [pclass_list[0], pclass_list[1], pclass_list[2]]\n",
    "labels = ['2 Classe', '1 Classe', '3 Classe']\n",
    "plt.bar(locations, heights, tick_label=labels)\n",
    "plt.title('Idade média pela classe')\n",
    "plt.xlabel('Class')\n",
    "plt.ylabel('Idade Média');"
   ]
  },
  {
   "cell_type": "code",
   "execution_count": 129,
   "metadata": {},
   "outputs": [
    {
     "data": {
      "image/png": "[encoded data removed]",
      "text/plain": [
       "<Figure size 432x288 with 1 Axes>"
      ]
     },
     "metadata": {
      "needs_background": "light"
     },
     "output_type": "display_data"
    }
   ],
   "source": [
    "#Gráfico da taxa média por local de embarque\n",
    "embarked = df_titanic['embarked'].unique()\n",
    "embarked_list = []\n",
    "for em in embarked:\n",
    "    embarked_list.append(df_titanic.query(\"embarked == @em\")['fare'].mean())\n",
    "\n",
    "locations = [1, 2, 3]\n",
    "heights = [embarked_list[0], embarked_list[1], embarked_list[2]]\n",
    "labels = ['S', 'C', 'Q']\n",
    "plt.bar(locations, heights, tick_label=labels)\n",
    "plt.title('Média da taxa por local de embarque')\n",
    "plt.xlabel('Local embarque')\n",
    "plt.ylabel('Taxa Média');"
   ]
  },
  {
   "cell_type": "code",
   "execution_count": 130,
   "metadata": {},
   "outputs": [
    {
     "data": {
      "image/png": "[encoded data removed]",
      "text/plain": [
       "<Figure size 432x288 with 1 Axes>"
      ]
     },
     "metadata": {
      "needs_background": "light"
     },
     "output_type": "display_data"
    }
   ],
   "source": [
    "#Gráfico da proporção por local de embarque\n",
    "embarked = df_titanic['embarked'].unique()\n",
    "embarked_list = []\n",
    "for em in embarked:\n",
    "    embarked_list.append(df_titanic.query(\"embarked == @em and pclass ==1\")['pclass'].count()/df_titanic.query(\"embarked == @em\").shape[0])\n",
    "\n",
    "locations = [1, 2, 3]\n",
    "heights = [embarked_list[0], embarked_list[1], embarked_list[2]]\n",
    "labels = ['S', 'C', 'Q']\n",
    "plt.bar(locations, heights, tick_label=labels)\n",
    "plt.title('Proporção embarque primeira classe')\n",
    "plt.xlabel('Local embarque')\n",
    "plt.ylabel('% Embarque');"
   ]
  },
  {
   "cell_type": "markdown",
   "metadata": {},
   "source": [
    "Comunicação das conclusões através dos gráficos acima."
   ]
  },
  {
   "cell_type": "markdown",
   "metadata": {},
   "source": [
    "## Connclusões sobre a terceira pergunta."
   ]
  },
  {
   "cell_type": "code",
   "execution_count": 134,
   "metadata": {},
   "outputs": [
    {
     "name": "stdout",
     "output_type": "stream",
     "text": [
      "Sobreviveram 36.11% da pessoas com pais ou filhos\n",
      "Sobreviveram 63.89% da pessoas sem relativos pais ou filhos\n"
     ]
    }
   ],
   "source": [
    "total_survived = survived.shape[0]\n",
    "print(\"Sobreviveram {:.2f}% da pessoas com pais ou filhos\".format(survived.query(\"parch > 0\")['parch'].count()/total_survived*100))\n",
    "print(\"Sobreviveram {:.2f}% da pessoas sem relativos pais ou filhos\".format(survived.query(\"parch == 0\")['parch'].count()/total_survived*100))"
   ]
  },
  {
   "cell_type": "markdown",
   "metadata": {},
   "source": [
    "Pelos calculos a maior taxa de sobreviventes foram as pessoas que não estavam nem com os pais ou os filhos a bordo. Pode-se concluir que os passageiros que estavam com filhos ou pais se mantiveram unidos e nem todos conseguiram abandonar o navio para sobreviver."
   ]
  },
  {
   "cell_type": "code",
   "execution_count": 136,
   "metadata": {},
   "outputs": [
    {
     "name": "stdout",
     "output_type": "stream",
     "text": [
      "Sobreviveram 39.93% da pessoas com irmãos ou marido/mulher\n",
      "Sobreviveram 60.07% da pessoas sem irmãos ou marido/mulher\n"
     ]
    }
   ],
   "source": [
    "total_survived = survived.shape[0]\n",
    "print(\"Sobreviveram {:.2f}% da pessoas com irmãos ou marido/mulher\".format(survived.query(\"sibsp > 0\")['parch'].count()/total_survived*100))\n",
    "print(\"Sobreviveram {:.2f}% da pessoas sem irmãos ou marido/mulher\".format(survived.query(\"sibsp == 0\")['parch'].count()/total_survived*100))"
   ]
  },
  {
   "cell_type": "markdown",
   "metadata": {},
   "source": [
    "O mesmo ocorre para passageiros que estavam com esposas/maridos e irmão a bordo, a taxa de sobrevivência foi maior para quem não estava a bordo com esses familiares. Pode-se concluir que o mesmo motivo anterior levou a tirar essas conclusões."
   ]
  },
  {
   "cell_type": "code",
   "execution_count": 137,
   "metadata": {},
   "outputs": [
    {
     "data": {
      "image/png": "[encoded data removed]",
      "text/plain": [
       "<Figure size 432x288 with 1 Axes>"
      ]
     },
     "metadata": {
      "needs_background": "light"
     },
     "output_type": "display_data"
    }
   ],
   "source": [
    "locations = [1, 2]\n",
    "total_survived = survived.shape[0]\n",
    "heights = [survived.query(\"parch > 0\")['parch'].count()/total_survived, survived.query(\"parch == 0\")['parch'].count()/total_survived]\n",
    "labels = ['Pais/filhos a bordo', 'Sem pais/filhos a bordo']\n",
    "plt.bar(locations, heights, tick_label=labels)\n",
    "plt.title('Sobreviventes por parentes ')\n",
    "plt.xlabel('Parentes')\n",
    "plt.ylabel('Quantidade Sobreviventes');"
   ]
  },
  {
   "cell_type": "code",
   "execution_count": 138,
   "metadata": {},
   "outputs": [
    {
     "data": {
      "image/png": "[encoded data removed]",
      "text/plain": [
       "<Figure size 432x288 with 1 Axes>"
      ]
     },
     "metadata": {
      "needs_background": "light"
     },
     "output_type": "display_data"
    }
   ],
   "source": [
    "locations = [1, 2]\n",
    "total_survived = survived.shape[0]\n",
    "heights = [survived.query(\"sibsp > 0\")['parch'].count()/total_survived, survived.query(\"sibsp == 0\")['parch'].count()/total_survived]\n",
    "labels = ['Irmão/marido/mulher a bordo', 'sem Irmão/marido/mulher a bordo']\n",
    "plt.bar(locations, heights, tick_label=labels)\n",
    "plt.title('Sobreviventes por parentes')\n",
    "plt.xlabel('Parentes')\n",
    "plt.ylabel('Quantidade Sobreviventes');"
   ]
  },
  {
   "cell_type": "markdown",
   "metadata": {},
   "source": [
    "Comunicação das conclusões através dos gráficos acima."
   ]
  }
 ],
 "metadata": {
  "kernelspec": {
   "display_name": "Python 3",
   "language": "python",
   "name": "python3"
  },
  "language_info": {
   "codemirror_mode": {
    "name": "ipython",
    "version": 3
   },
   "file_extension": ".py",
   "mimetype": "text/x-python",
   "name": "python",
   "nbconvert_exporter": "python",
   "pygments_lexer": "ipython3",
   "version": "3.6.6"
  }
 },
 "nbformat": 4,
 "nbformat_minor": 2
}
